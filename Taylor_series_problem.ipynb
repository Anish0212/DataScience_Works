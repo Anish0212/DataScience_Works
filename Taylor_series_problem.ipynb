{
  "nbformat": 4,
  "nbformat_minor": 0,
  "metadata": {
    "colab": {
      "name": "Taylor_series_problem.ipynb",
      "provenance": [],
      "collapsed_sections": [],
      "authorship_tag": "ABX9TyO64Je3WErxIMYOvoSJvI0/",
      "include_colab_link": true
    },
    "kernelspec": {
      "name": "python3",
      "display_name": "Python 3"
    }
  },
  "cells": [
    {
      "cell_type": "markdown",
      "metadata": {
        "id": "view-in-github",
        "colab_type": "text"
      },
      "source": [
        "<a href=\"https://colab.research.google.com/github/Anish0212/DataScience_Works/blob/master/Taylor_series_problem.ipynb\" target=\"_parent\"><img src=\"https://colab.research.google.com/assets/colab-badge.svg\" alt=\"Open In Colab\"/></a>"
      ]
    },
    {
      "cell_type": "markdown",
      "metadata": {
        "id": "NjPMcXkvtR4g",
        "colab_type": "text"
      },
      "source": [
        "# Taylor series \n"
      ]
    },
    {
      "cell_type": "markdown",
      "metadata": {
        "id": "yONJw78FtX5Z",
        "colab_type": "text"
      },
      "source": [
        "1.   Write an iterative function to compute the factorial of a natural number\n",
        "2.   Write a recursive function to compute the factorial of a natural number.\n",
        "3.   Write a function to compute $\\frac{x^n}{n!}$ given a float $x$ and natural number $n$ as arguments\n",
        "4.   Write a function to iteratively sum up the value $\\frac{x^n}{n!}$ from $n = 1$ to a given $N$ for a given $x$, i.e., \n",
        "$$ F(x, N) = 1 + \\sum_{i = 1}^N \\dfrac{x^n}{n!}$$\n",
        "5.   Write a function to iteratively sum up the value $\\frac{x^n}{n!}$ from $n = 1$ to a chosen value of $N'$ such that $$F(x, N') - F(x, N' - 1) < \\epsilon$$ for given real number $x$ and positive small number $\\epsilon$\n",
        "6.   Choose two real numbers $p$ and $q$ and compute the following two values\n",
        "$$ v_1 = F(p, 100) * F(q, 100) $$\n",
        "$$ v_2 = F(p + q, 100) $$\n",
        "Compute the difference $v_1 - v_2$ and comment on what you see."
      ]
    },
    {
      "cell_type": "markdown",
      "metadata": {
        "id": "wJKANdXEteCu",
        "colab_type": "text"
      },
      "source": [
        "# solution\n"
      ]
    },
    {
      "cell_type": "code",
      "metadata": {
        "id": "tda24yKYfU5V",
        "colab_type": "code",
        "colab": {}
      },
      "source": [
        "def factorial(n):\n",
        "    product = 1\n",
        "    for i in range(n):\n",
        "        # print(i, product)\n",
        "        product *= (i+1)\n",
        "    return product\n"
      ],
      "execution_count": 0,
      "outputs": []
    },
    {
      "cell_type": "code",
      "metadata": {
        "id": "YgOSmSKBlr_C",
        "colab_type": "code",
        "colab": {
          "base_uri": "https://localhost:8080/",
          "height": 34
        },
        "outputId": "ac9365a2-8072-41eb-b73a-10b9fb968afa"
      },
      "source": [
        "print(factorial(4))"
      ],
      "execution_count": 6,
      "outputs": [
        {
          "output_type": "stream",
          "text": [
            "24\n"
          ],
          "name": "stdout"
        }
      ]
    },
    {
      "cell_type": "code",
      "metadata": {
        "id": "WcBzkpH5lwxK",
        "colab_type": "code",
        "colab": {}
      },
      "source": [
        "def factorial_recursive(n):\n",
        "    if n > 1:\n",
        "        return n * factorial_recursive(n-1)\n",
        "    else:\n",
        "        return 1"
      ],
      "execution_count": 0,
      "outputs": []
    },
    {
      "cell_type": "code",
      "metadata": {
        "id": "ZkfKD-a2mYU9",
        "colab_type": "code",
        "colab": {
          "base_uri": "https://localhost:8080/",
          "height": 34
        },
        "outputId": "f67baaa5-a7d1-4177-bfdc-a6757392499e"
      },
      "source": [
        "print(factorial_recursive(4))"
      ],
      "execution_count": 9,
      "outputs": [
        {
          "output_type": "stream",
          "text": [
            "24\n"
          ],
          "name": "stdout"
        }
      ]
    },
    {
      "cell_type": "code",
      "metadata": {
        "id": "BvYLF2fJmdST",
        "colab_type": "code",
        "colab": {}
      },
      "source": [
        "def compute_ratio(x,n):\n",
        "    ratio = x**n / factorial(n)\n",
        "    return ratio"
      ],
      "execution_count": 0,
      "outputs": []
    },
    {
      "cell_type": "code",
      "metadata": {
        "id": "mDjeKAwYmv3D",
        "colab_type": "code",
        "colab": {
          "base_uri": "https://localhost:8080/",
          "height": 34
        },
        "outputId": "82fc141b-b085-4ccd-bac0-9e9951e64a08"
      },
      "source": [
        "compute_ratio(2,4)"
      ],
      "execution_count": 15,
      "outputs": [
        {
          "output_type": "execute_result",
          "data": {
            "text/plain": [
              "0.6666666666666666"
            ]
          },
          "metadata": {
            "tags": []
          },
          "execution_count": 15
        }
      ]
    },
    {
      "cell_type": "code",
      "metadata": {
        "id": "nneno81jmzUq",
        "colab_type": "code",
        "colab": {}
      },
      "source": [
        "def compute_sum(x, N):\n",
        "    sum = 1\n",
        "    for i in range(N):\n",
        "        sum += compute_ratio(x, i+1)\n",
        "    return sum\n"
      ],
      "execution_count": 0,
      "outputs": []
    },
    {
      "cell_type": "code",
      "metadata": {
        "id": "9db9EWSAnR6p",
        "colab_type": "code",
        "colab": {
          "base_uri": "https://localhost:8080/",
          "height": 34
        },
        "outputId": "be855a56-2f3a-49e8-a1e6-a5ccc960bc69"
      },
      "source": [
        "print(compute_sum(2,4))"
      ],
      "execution_count": 17,
      "outputs": [
        {
          "output_type": "stream",
          "text": [
            "7.0\n"
          ],
          "name": "stdout"
        }
      ]
    },
    {
      "cell_type": "code",
      "metadata": {
        "id": "l3xB3yhWnVGt",
        "colab_type": "code",
        "colab": {}
      },
      "source": [
        "def compute_sum_epsilon(x , epsilon):\n",
        "    sum = 1\n",
        "    var = epsilon\n",
        "    i =1\n",
        "    while var >= epsilon:\n",
        "        var = compute_ratio(x, i)\n",
        "        sum  += var\n",
        "        i += 1\n",
        "    return sum"
      ],
      "execution_count": 0,
      "outputs": []
    },
    {
      "cell_type": "code",
      "metadata": {
        "id": "HfoaW3XZoNc6",
        "colab_type": "code",
        "colab": {
          "base_uri": "https://localhost:8080/",
          "height": 34
        },
        "outputId": "fda4f702-0b5c-41a8-fdb4-17284d976d21"
      },
      "source": [
        "print(compute_sum_epsilon(2, 0.01))"
      ],
      "execution_count": 19,
      "outputs": [
        {
          "output_type": "stream",
          "text": [
            "7.387301587301587\n"
          ],
          "name": "stdout"
        }
      ]
    },
    {
      "cell_type": "code",
      "metadata": {
        "id": "I1gevOtYoV0r",
        "colab_type": "code",
        "colab": {
          "base_uri": "https://localhost:8080/",
          "height": 34
        },
        "outputId": "aed45654-7619-412d-af2b-4c1559a86d5d"
      },
      "source": [
        "print(compute_sum(2, 100))"
      ],
      "execution_count": 20,
      "outputs": [
        {
          "output_type": "stream",
          "text": [
            "7.389056098930649\n"
          ],
          "name": "stdout"
        }
      ]
    },
    {
      "cell_type": "code",
      "metadata": {
        "id": "-Bfjdz29ocH5",
        "colab_type": "code",
        "colab": {}
      },
      "source": [
        "# modified from previous function\n",
        "\n",
        "def compute_sum_epsilon(x , epsilon):\n",
        "    sum = 1\n",
        "    i =1\n",
        "    while True:\n",
        "        var = compute_ratio(x, i)\n",
        "        sum  += var\n",
        "        i += 1\n",
        "        if var < epsilon:\n",
        "            break\n",
        "    return sum"
      ],
      "execution_count": 0,
      "outputs": []
    },
    {
      "cell_type": "code",
      "metadata": {
        "id": "yz-7C85BoopU",
        "colab_type": "code",
        "colab": {
          "base_uri": "https://localhost:8080/",
          "height": 34
        },
        "outputId": "1ccf1760-60ea-4da0-c77a-e418e6dceab4"
      },
      "source": [
        "print(compute_sum_epsilon(2, 0.01))\n"
      ],
      "execution_count": 23,
      "outputs": [
        {
          "output_type": "stream",
          "text": [
            "7.387301587301587\n"
          ],
          "name": "stdout"
        }
      ]
    },
    {
      "cell_type": "code",
      "metadata": {
        "id": "NquX64rko0K6",
        "colab_type": "code",
        "colab": {
          "base_uri": "https://localhost:8080/",
          "height": 34
        },
        "outputId": "39416d12-4612-4406-a48c-4c1f5e5689f1"
      },
      "source": [
        "p = -1.5\n",
        "q= 7.2\n",
        "\n",
        "v1 = compute_sum(p,100) * compute_sum(q,100)\n",
        "\n",
        "v2 = compute_sum(p + q , 100)\n",
        "\n",
        "print(v1, v2 , v2-v1)\n"
      ],
      "execution_count": 28,
      "outputs": [
        {
          "output_type": "stream",
          "text": [
            "298.8674009670601 298.8674009670602 5.684341886080802e-14\n"
          ],
          "name": "stdout"
        }
      ]
    },
    {
      "cell_type": "code",
      "metadata": {
        "id": "Yiz9Nsi4pHDM",
        "colab_type": "code",
        "colab": {
          "base_uri": "https://localhost:8080/",
          "height": 193
        },
        "outputId": "addf9a89-63d8-4b7c-ebf9-67dc46f890a5"
      },
      "source": [
        "for i in range(10):\n",
        "    print(i, compute_sum(i,100))"
      ],
      "execution_count": 29,
      "outputs": [
        {
          "output_type": "stream",
          "text": [
            "0 1.0\n",
            "1 2.7182818284590455\n",
            "2 7.389056098930649\n",
            "3 20.08553692318766\n",
            "4 54.598150033144265\n",
            "5 148.41315910257657\n",
            "6 403.4287934927351\n",
            "7 1096.6331584284578\n",
            "8 2980.957987041728\n",
            "9 8103.083927575384\n"
          ],
          "name": "stdout"
        }
      ]
    },
    {
      "cell_type": "markdown",
      "metadata": {
        "id": "4-fNBtogtQsd",
        "colab_type": "text"
      },
      "source": [
        ""
      ]
    },
    {
      "cell_type": "code",
      "metadata": {
        "id": "Uhhnuk7ApjY_",
        "colab_type": "code",
        "colab": {}
      },
      "source": [
        ""
      ],
      "execution_count": 0,
      "outputs": []
    }
  ]
}