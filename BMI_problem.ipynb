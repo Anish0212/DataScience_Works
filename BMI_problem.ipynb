{
  "nbformat": 4,
  "nbformat_minor": 0,
  "metadata": {
    "colab": {
      "name": "BMI_problem.ipynb",
      "provenance": [],
      "collapsed_sections": [],
      "authorship_tag": "ABX9TyMBGPOc/5ixJ0WDyorWSRDD",
      "include_colab_link": true
    },
    "kernelspec": {
      "name": "python3",
      "display_name": "Python 3"
    }
  },
  "cells": [
    {
      "cell_type": "markdown",
      "metadata": {
        "id": "view-in-github",
        "colab_type": "text"
      },
      "source": [
        "<a href=\"https://colab.research.google.com/github/Anish0212/DataScience_Works/blob/master/BMI_problem.ipynb\" target=\"_parent\"><img src=\"https://colab.research.google.com/assets/colab-badge.svg\" alt=\"Open In Colab\"/></a>"
      ]
    },
    {
      "cell_type": "markdown",
      "metadata": {
        "id": "rJ3D0Afbyyvy",
        "colab_type": "text"
      },
      "source": [
        "# Problem over checking BMI"
      ]
    },
    {
      "cell_type": "markdown",
      "metadata": {
        "id": "aZeKwZWry-pl",
        "colab_type": "text"
      },
      "source": [
        "1.   Prompt the user \"Enter your weight (in kgs)\" and record weight\n",
        "2.   Prompt the user \"What is your preferred unit of height? Type \"F\" for feet and \"M\" for meters\" and record the preference\n",
        "3.   If user says \"F\" then prompt user \"You will enter your height given as feet and inches. First enter feet\" and record feet and then prompt user \"Now enter inches\" and record inches\n",
        "4.   If user says \"M\" then prompt user \"What is your height in meters\" and record height in meters\n",
        "5.   If user had chosen \"F\" then convert height into meters\n",
        "6.   Compute BMI using the following formula $$\\mbox{BMI} = \\dfrac{\\mbox{Weight (in kgs)}}{\\mbox{Height }^2\\mbox{(in m)}}$$\n",
        "7.   Depending on the value of BMI, report the user's type given by the following table: \n",
        "> *   $\\mbox{BMI} < 18.5$: UNDERWEIGHT\n",
        "> *   $18.5 \\leq \\mbox{BMI} < 25$: NORMAL\n",
        "> *   $25 \\leq \\mbox{BMI} < 30$: OVERWEIGHT\n",
        "> *   $\\mbox{BMI} \\geq 30$: VERY-OVERWEIGHT\n"
      ]
    },
    {
      "cell_type": "markdown",
      "metadata": {
        "id": "n6xwaFlGy5v1",
        "colab_type": "text"
      },
      "source": [
        "# solution"
      ]
    },
    {
      "cell_type": "code",
      "metadata": {
        "id": "l8iKdyC9Wzjo",
        "colab_type": "code",
        "colab": {}
      },
      "source": [
        "weight = input(\"Enter your weight in kgs \")\n",
        "height_unit = input(\"Enter your height 'F' for feets and 'M' for meters \")\n",
        "\n",
        "if height_unit == \"F\":\n",
        "    feet = input(\"Enter both feet and inches. Now enter Feets \")\n",
        "    inches = input(\"Enter inches \")\n",
        "    meters = (feet + inches/12) * 0.3048\n",
        "else:\n",
        "    meters = input(\"Please enter height in your meters \")\n",
        "\n",
        "     \n",
        "height = meters"
      ],
      "execution_count": 0,
      "outputs": []
    },
    {
      "cell_type": "markdown",
      "metadata": {
        "id": "1A8YKJOmydif",
        "colab_type": "text"
      },
      "source": [
        ""
      ]
    },
    {
      "cell_type": "code",
      "metadata": {
        "id": "hKdgo7YHW-sN",
        "colab_type": "code",
        "colab": {}
      },
      "source": [
        "# Funtion to change string to integer\n",
        "\n",
        "def input_single_integer(prompt):\n",
        "    ret = int(input(prompt))\n",
        "    return ret\n"
      ],
      "execution_count": 0,
      "outputs": []
    },
    {
      "cell_type": "code",
      "metadata": {
        "id": "Un34e7XyXLgC",
        "colab_type": "code",
        "colab": {}
      },
      "source": [
        "weight = input(\"Enter your weight in kgs \")\n",
        "height_unit = input(\"Enter your height 'F' for feets and 'M' for meters \")\n",
        "\n",
        "if height_unit == \"F\":\n",
        "    feet = input_single_integer(\"Enter both feet and inches. Now enter Feets \")\n",
        "    inches = input_single_integer(\"Enter inches \")\n",
        "    meters = (feet + inches/12) * 0.3048\n",
        "else:\n",
        "    meters = input(\"Please enter height in your meters \")\n",
        "\n",
        "height = meters"
      ],
      "execution_count": 0,
      "outputs": []
    },
    {
      "cell_type": "code",
      "metadata": {
        "id": "W6eU2iwwXPvD",
        "colab_type": "code",
        "colab": {}
      },
      "source": [
        "print(meters)\n"
      ],
      "execution_count": 0,
      "outputs": []
    },
    {
      "cell_type": "code",
      "metadata": {
        "id": "WXEDFli3YV0n",
        "colab_type": "code",
        "colab": {}
      },
      "source": [
        "# function to change string to float\n",
        "def input_single_float(prompt):\n",
        "    ret = float(input(prompt))\n",
        "    return ret"
      ],
      "execution_count": 0,
      "outputs": []
    },
    {
      "cell_type": "code",
      "metadata": {
        "id": "ryKHRamvXwkm",
        "colab_type": "code",
        "outputId": "f8fa2d05-f684-4189-c4dd-1971ccb835e9",
        "colab": {
          "base_uri": "https://localhost:8080/",
          "height": 87
        }
      },
      "source": [
        "weight = input_single_float(\"Enter your weight in kgs \")\n",
        "height_unit = input(\"Enter your height 'F' for feets and 'M' for meters \")\n",
        "\n",
        "if height_unit == \"F\":\n",
        "    feet = input_single_integer(\"Enter both feet and inches. Now enter Feets \")\n",
        "    inches = input_single_integer(\"Enter inches \")\n",
        "    meters = (feet + inches/12) * 0.3048\n",
        "else:\n",
        "    meters = input_single_float(\"Please enter height in your meters \")\n",
        "\n",
        "height = meters\n",
        "\n",
        "bmi = weight / height**2 \n",
        "print(\"Your BMI is \", bmi)"
      ],
      "execution_count": 0,
      "outputs": [
        {
          "output_type": "stream",
          "text": [
            "Enter your weight in kgs 80\n",
            "Enter your height 'F' for feets and 'M' for meters M\n",
            "Please enter height in your meters 1.82\n",
            "Your BMI is  24.151672503320853\n"
          ],
          "name": "stdout"
        }
      ]
    },
    {
      "cell_type": "code",
      "metadata": {
        "id": "FZN39F0tYRAZ",
        "colab_type": "code",
        "outputId": "5f8a64cf-796d-475b-8896-b28d2bd46f09",
        "colab": {
          "base_uri": "https://localhost:8080/",
          "height": 122
        }
      },
      "source": [
        "#The final SET\n",
        "\n",
        "weight = input_single_float(\"Enter your weight in kgs \")\n",
        "height_unit = input(\"Enter your height 'F' for feets and 'M' for meters \")\n",
        "\n",
        "if height_unit == \"F\":\n",
        "    feet = input_single_integer(\"Enter both feet and inches. Now enter Feets \")\n",
        "    inches = input_single_integer(\"Enter inches \")\n",
        "    meters = (feet + inches/12) * 0.3048\n",
        "else:\n",
        "    meters = input_single_float(\"Please enter height in your meters \")\n",
        "\n",
        "height = meters\n",
        "\n",
        "bmi = weight / height**2 \n",
        "print(\"Your BMI is \", bmi) \n",
        "\n",
        "if bmi < 18.5: \n",
        "    print(\"You are underweight\")\n",
        "elif bmi < 25:\n",
        "    print(\"you are NORMAL\")\n",
        "elif bmi < 30:\n",
        "    print(\"You are overweight\")\n",
        "elif bmi > 30:\n",
        "    print(\"you are Very overweight\")"
      ],
      "execution_count": 0,
      "outputs": [
        {
          "output_type": "stream",
          "text": [
            "Enter your weight in kgs 80\n",
            "Enter your height 'F' for feets and 'M' for meters F\n",
            "Enter both feet and inches. Now enter Feets 5\n",
            "Enter inches 10\n",
            "Your BMI is  25.306173061325712\n",
            "You are overweight\n"
          ],
          "name": "stdout"
        }
      ]
    },
    {
      "cell_type": "code",
      "metadata": {
        "id": "ToLcs3huZGNT",
        "colab_type": "code",
        "colab": {}
      },
      "source": [
        ""
      ],
      "execution_count": 0,
      "outputs": []
    }
  ]
}